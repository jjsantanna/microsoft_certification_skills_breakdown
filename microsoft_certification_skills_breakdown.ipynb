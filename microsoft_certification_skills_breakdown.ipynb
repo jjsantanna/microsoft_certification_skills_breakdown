{
 "cells": [
  {
   "cell_type": "markdown",
   "id": "3e2fe43a",
   "metadata": {},
   "source": [
    "# Microsoft Certification Skills Breakdown"
   ]
  },
  {
   "cell_type": "markdown",
   "id": "025832ed",
   "metadata": {},
   "source": [
    "From the .pdf containing the skills needed to make a Microsoft exam to the links from the microsoft documentation to the pdf with the actual text.\n",
    "\n",
    "*I've tried 'tabula-py' and 'PyPDF2' but retrived text was incomplete*"
   ]
  },
  {
   "cell_type": "code",
   "execution_count": 95,
   "id": "4ebb7693",
   "metadata": {},
   "outputs": [],
   "source": [
    "# file_path = \"exam-az-500-microsoft-azure-security-technologies.pdf\"\n",
    "file_path = \"https://query.prod.cms.rt.microsoft.com/cms/api/am/binary/RE3VC70\""
   ]
  },
  {
   "cell_type": "code",
   "execution_count": 96,
   "id": "2444d40e",
   "metadata": {},
   "outputs": [],
   "source": [
    "import fitz # pip install pymupdf"
   ]
  },
  {
   "cell_type": "code",
   "execution_count": 97,
   "id": "507e704b",
   "metadata": {},
   "outputs": [
    {
     "name": "stderr",
     "output_type": "stream",
     "text": [
      "mupdf: cannot open https://query.prod.cms.rt.microsoft.com/cms/api/am/binary/RE3VC70: No such file or directory\n"
     ]
    },
    {
     "ename": "RuntimeError",
     "evalue": "cannot open https://query.prod.cms.rt.microsoft.com/cms/api/am/binary/RE3VC70: No such file or directory",
     "output_type": "error",
     "traceback": [
      "\u001b[0;31m---------------------------------------------------------------------------\u001b[0m",
      "\u001b[0;31mRuntimeError\u001b[0m                              Traceback (most recent call last)",
      "\u001b[0;32m<ipython-input-97-c31de200ec07>\u001b[0m in \u001b[0;36m<module>\u001b[0;34m\u001b[0m\n\u001b[0;32m----> 1\u001b[0;31m \u001b[0;32mwith\u001b[0m \u001b[0mfitz\u001b[0m\u001b[0;34m.\u001b[0m\u001b[0mopen\u001b[0m\u001b[0;34m(\u001b[0m\u001b[0mfile_path\u001b[0m\u001b[0;34m)\u001b[0m \u001b[0;32mas\u001b[0m \u001b[0mdoc\u001b[0m\u001b[0;34m:\u001b[0m\u001b[0;34m\u001b[0m\u001b[0;34m\u001b[0m\u001b[0m\n\u001b[0m\u001b[1;32m      2\u001b[0m     \u001b[0mtext\u001b[0m \u001b[0;34m=\u001b[0m \u001b[0;34m\"\"\u001b[0m\u001b[0;34m\u001b[0m\u001b[0;34m\u001b[0m\u001b[0m\n\u001b[1;32m      3\u001b[0m     \u001b[0;32mfor\u001b[0m \u001b[0mpage\u001b[0m \u001b[0;32min\u001b[0m \u001b[0mdoc\u001b[0m\u001b[0;34m:\u001b[0m\u001b[0;34m\u001b[0m\u001b[0;34m\u001b[0m\u001b[0m\n\u001b[1;32m      4\u001b[0m         \u001b[0mtext\u001b[0m \u001b[0;34m+=\u001b[0m \u001b[0mpage\u001b[0m\u001b[0;34m.\u001b[0m\u001b[0mgetText\u001b[0m\u001b[0;34m(\u001b[0m\u001b[0;34m)\u001b[0m\u001b[0;34m\u001b[0m\u001b[0;34m\u001b[0m\u001b[0m\n",
      "\u001b[0;32m/usr/local/lib/python3.9/site-packages/fitz/fitz.py\u001b[0m in \u001b[0;36m__init__\u001b[0;34m(self, filename, stream, filetype, rect, width, height, fontsize)\u001b[0m\n\u001b[1;32m   3805\u001b[0m         _fitz.Document_swiginit(\n\u001b[1;32m   3806\u001b[0m             \u001b[0mself\u001b[0m\u001b[0;34m,\u001b[0m\u001b[0;34m\u001b[0m\u001b[0;34m\u001b[0m\u001b[0m\n\u001b[0;32m-> 3807\u001b[0;31m             _fitz.new_Document(\n\u001b[0m\u001b[1;32m   3808\u001b[0m                 \u001b[0mfilename\u001b[0m\u001b[0;34m,\u001b[0m \u001b[0mstream\u001b[0m\u001b[0;34m,\u001b[0m \u001b[0mfiletype\u001b[0m\u001b[0;34m,\u001b[0m \u001b[0mrect\u001b[0m\u001b[0;34m,\u001b[0m \u001b[0mwidth\u001b[0m\u001b[0;34m,\u001b[0m \u001b[0mheight\u001b[0m\u001b[0;34m,\u001b[0m \u001b[0mfontsize\u001b[0m\u001b[0;34m\u001b[0m\u001b[0;34m\u001b[0m\u001b[0m\n\u001b[1;32m   3809\u001b[0m             ),\n",
      "\u001b[0;31mRuntimeError\u001b[0m: cannot open https://query.prod.cms.rt.microsoft.com/cms/api/am/binary/RE3VC70: No such file or directory"
     ]
    }
   ],
   "source": [
    "with fitz.open(file_path) as doc:\n",
    "    text = \"\"\n",
    "    for page in doc:\n",
    "        text += page.getText()"
   ]
  },
  {
   "cell_type": "code",
   "execution_count": 61,
   "id": "1a67e666",
   "metadata": {},
   "outputs": [],
   "source": [
    "text_list = text.split('\\n') #converting to a list"
   ]
  },
  {
   "cell_type": "markdown",
   "id": "8a3285ab",
   "metadata": {},
   "source": [
    "## Getting the Topics, Subtopics, and Aspects"
   ]
  },
  {
   "cell_type": "code",
   "execution_count": 94,
   "id": "74af911d",
   "metadata": {},
   "outputs": [
    {
     "name": "stdout",
     "output_type": "stream",
     "text": [
      "Manage identity and access (30-35%)  : Manage Azure Active Directory (Azure AD) identities  : create and manage a managed identity for Azure resources \n",
      "Manage identity and access (30-35%)  : Manage Azure Active Directory (Azure AD) identities  : manage Azure AD groups \n",
      "Manage identity and access (30-35%)  : Manage Azure Active Directory (Azure AD) identities  : manage Azure AD users \n",
      "Manage identity and access (30-35%)  : Manage Azure Active Directory (Azure AD) identities  : manage external identities by using Azure AD \n",
      "Manage identity and access (30-35%)  : Manage Azure Active Directory (Azure AD) identities  : manage administrative units \n",
      "Manage identity and access (30-35%)  : Manage secure access by using Azure AD  : configure Azure AD Privileged Identity Management (PIM)  \n",
      "Manage identity and access (30-35%)  : Manage secure access by using Azure AD  : implement Conditional Access policies, including multifactor authentication \n",
      "Manage identity and access (30-35%)  : Manage secure access by using Azure AD  : implement Azure AD Identity Protection \n",
      "Manage identity and access (30-35%)  : Manage secure access by using Azure AD  : implement passwordless authentication \n",
      "Manage identity and access (30-35%)  : Manage secure access by using Azure AD  : configure access reviews \n",
      "Manage identity and access (30-35%)  : Manage application access  : integrate single sign-on (SSO) and identity providers for authentication \n",
      "Manage identity and access (30-35%)  : Manage application access  : create an app registration \n",
      "Manage identity and access (30-35%)  : Manage application access  : configure app registration permission scopes \n",
      "Manage identity and access (30-35%)  : Manage application access  : manage app registration permission consent \n",
      "Manage identity and access (30-35%)  : Manage application access  : manage API permissions to Azure subscriptions and resources \n",
      "Manage identity and access (30-35%)  : Manage application access  : configure an authentication method for a service principal \n",
      "Manage identity and access (30-35%)  : Manage access control  : configure Azure role permissions for management groups, subscriptions, resource \n",
      "Manage identity and access (30-35%)  : Manage access control  : interpret role and resource permissions \n",
      "Manage identity and access (30-35%)  : Manage access control  : assign built-in Azure AD roles \n",
      "Manage identity and access (30-35%)  : Manage access control  : create and assign custom roles, including Azure roles and Azure AD roles \n",
      "Implement platform protection (15-20%)  : Implement advanced network security  : secure the connectivity of hybrid networks  \n",
      "Implement platform protection (15-20%)  : Implement advanced network security  : secure the connectivity of virtual networks \n",
      "Implement platform protection (15-20%)  : Implement advanced network security  : create and configure Azure Firewall  \n",
      "Implement platform protection (15-20%)  : Implement advanced network security  : create and configure Azure Firewall Manager \n",
      "Implement platform protection (15-20%)  : Implement advanced network security  : create and configure Azure Application Gateway \n",
      "Implement platform protection (15-20%)  : Implement advanced network security  : create and configure Azure Front Door \n",
      "Implement platform protection (15-20%)  : Implement advanced network security  : create and configure Web Application Firewall (WAF)  \n",
      "Implement platform protection (15-20%)  : Implement advanced network security  : configure a resource firewall, including storage account, Azure SQL, Azure Key Vault, or \n",
      "Implement platform protection (15-20%)  : Azure App Service  : configure network isolation for Web Apps and Azure Functions \n",
      "Implement platform protection (15-20%)  : Azure App Service  : implement Azure Service Endpoints  \n",
      "Implement platform protection (15-20%)  : Azure App Service  : implement Azure Private Endpoints, including integrating with other services \n",
      "Implement platform protection (15-20%)  : Azure App Service  : implement Azure Private Links  \n",
      "Implement platform protection (15-20%)  : Azure App Service  : implement Azure DDoS Protection \n",
      "Implement platform protection (15-20%)  : Configure advanced security for compute  : configure Azure Endpoint Protection for virtual machines (VMs)  \n",
      "Implement platform protection (15-20%)  : Configure advanced security for compute  : Implement and manage security updates for VMs \n",
      "Implement platform protection (15-20%)  : Configure advanced security for compute  : configure security for container services \n",
      "Implement platform protection (15-20%)  : Configure advanced security for compute  : manage access to Azure Container Registry \n",
      "Implement platform protection (15-20%)  : Configure advanced security for compute  : configure security for serverless compute \n",
      "Implement platform protection (15-20%)  : Configure advanced security for compute  : configure security for an Azure App Service \n",
      "Implement platform protection (15-20%)  : Configure advanced security for compute  : configure encryption at rest \n",
      "Implement platform protection (15-20%)  : Configure advanced security for compute  : configure encryption in transit \n",
      "Manage security operations (25-30%)  : Configure centralized policy management  : configure a custom security policy \n",
      "Manage security operations (25-30%)  : Configure centralized policy management  : create a policy initiative \n",
      "Manage security operations (25-30%)  : Configure centralized policy management  : configure security settings and auditing by using Azure Policy \n",
      "Manage security operations (25-30%)  : Configure and manage threat protection  : configure Azure Defender for Servers (not including Microsoft Defender for Endpoint) \n",
      "Manage security operations (25-30%)  : Configure and manage threat protection  : evaluate vulnerability scans from Azure Defender \n",
      "Manage security operations (25-30%)  : Configure and manage threat protection  : configure Azure Defender for SQL \n",
      "Manage security operations (25-30%)  : Configure and manage threat protection  : use the Microsoft Threat Modeling Tool  \n",
      "Manage security operations (25-30%)  : Configure and manage security monitoring solutions  : create and customize alert rules by using Azure Monitor \n",
      "Manage security operations (25-30%)  : Configure and manage security monitoring solutions  : configure diagnostic logging and log retention by using Azure Monitor \n",
      "Manage security operations (25-30%)  : Configure and manage security monitoring solutions  : monitor security logs by using Azure Monitor \n",
      "Manage security operations (25-30%)  : Configure and manage security monitoring solutions  : create and customize alert rules in Azure Sentinel \n",
      "Manage security operations (25-30%)  : Configure and manage security monitoring solutions  : configure connectors in Azure Sentinel \n",
      "Manage security operations (25-30%)  : Configure and manage security monitoring solutions  : evaluate alerts and incidents in Azure Sentinel \n",
      "Secure data and applications (25–30%)  : Configure security for storage  : configure access control for storage accounts \n",
      "Secure data and applications (25–30%)  : Configure security for storage  : configure storage account access keys \n",
      "Secure data and applications (25–30%)  : Configure security for storage  : configure Azure AD authentication for Azure Storage and Azure Files \n",
      "Secure data and applications (25–30%)  : Configure security for storage  : configure delegated access  \n",
      "Secure data and applications (25–30%)  : Configure security for data  : enable database authentication by using Azure AD \n",
      "Secure data and applications (25–30%)  : Configure security for data  : enable database auditing \n",
      "Secure data and applications (25–30%)  : Configure security for data  : configure dynamic masking on SQL workloads \n",
      "Secure data and applications (25–30%)  : Configure security for data  : implement database encryption for Azure SQL Database \n",
      "Secure data and applications (25–30%)  : Configure security for data  : implement network isolation for data solutions, including Azure Synapse Analytics and \n",
      "Secure data and applications (25–30%)  : Configure and manage Azure Key Vault  : create and configure Key Vault \n",
      "Secure data and applications (25–30%)  : Configure and manage Azure Key Vault  : configure access to Key Vault \n",
      "Secure data and applications (25–30%)  : Configure and manage Azure Key Vault  : manage certificates, secrets, and keys \n",
      "Secure data and applications (25–30%)  : Configure and manage Azure Key Vault  : configure key rotation \n",
      "Secure data and applications (25–30%)  : Configure and manage Azure Key Vault  : configure backup and recovery of certificates, secrets, and keys \n"
     ]
    }
   ],
   "source": [
    "for i, text in enumerate(text_list):\n",
    "    if '%' in text:\n",
    "        Topic = text\n",
    "    \n",
    "    else ('\\uf0b7' in text):\n",
    "        if ('\\uf0b7' not in text_list[i-1] and (text_list[i-1][0].isupper())):\n",
    "            Subtopic = text_list[i-1]\n",
    "        \n",
    "        Aspect = text.replace('\\uf0b7 ','')\n",
    "    \n",
    "        print (Topic, ':',Subtopic,':', Aspect)\n",
    "    \n",
    "    # From this the text starts to repeat\n",
    "    if \"Note that the audience profile has been updated\" in text:\n",
    "        break"
   ]
  }
 ],
 "metadata": {
  "kernelspec": {
   "display_name": "Python 3",
   "language": "python",
   "name": "python3"
  },
  "language_info": {
   "codemirror_mode": {
    "name": "ipython",
    "version": 3
   },
   "file_extension": ".py",
   "mimetype": "text/x-python",
   "name": "python",
   "nbconvert_exporter": "python",
   "pygments_lexer": "ipython3",
   "version": "3.9.6"
  }
 },
 "nbformat": 4,
 "nbformat_minor": 5
}
